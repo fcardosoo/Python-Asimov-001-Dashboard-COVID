{
 "cells": [
  {
   "cell_type": "markdown",
   "id": "4e4fd05f",
   "metadata": {},
   "source": [
    "# Dashboard automatizado COVID\n",
    "\n",
    "## Desafio:\n",
    "\n",
    "* Construir um código de um <b>dashboard</b> com os dados de COVID, utilizando apenas o <b>Python</b> e disponibilizar em um arquivo acessível.<br>\n",
    "<p><i>Fonte: covid.saude.gov.br</i></p>\n",
    "\n",
    "## Passo a passo:\n",
    "\n",
    "`Passo 1` - Importar os módulos e bibliotecas;\n",
    "\n",
    "`Passo 2` - Carregar os dados;\n",
    "\n",
    "`Passo 3` - Mapa\n",
    "\n",
    "`Passo 4` - Layout\n",
    "\n",
    "`Passo 5` - Funções de Interatividade"
   ]
  },
  {
   "cell_type": "markdown",
   "id": "a869198e",
   "metadata": {},
   "source": [
    "## 1.0 Bibliotecas"
   ]
  },
  {
   "cell_type": "code",
   "execution_count": 1,
   "id": "0035eaec",
   "metadata": {},
   "outputs": [
    {
     "name": "stderr",
     "output_type": "stream",
     "text": [
      "C:\\Users\\d311r.DESKTOP-O2NL7MH\\AppData\\Local\\Temp\\ipykernel_14904\\37940995.py:7: UserWarning: \n",
      "The dash_core_components package is deprecated. Please replace\n",
      "`import dash_core_components as dcc` with `from dash import dcc`\n",
      "  import dash_core_components      as dcc\n",
      "C:\\Users\\d311r.DESKTOP-O2NL7MH\\AppData\\Local\\Temp\\ipykernel_14904\\37940995.py:8: UserWarning: \n",
      "The dash_html_components package is deprecated. Please replace\n",
      "`import dash_html_components as html` with `from dash import html`\n",
      "  import dash_html_components      as html\n"
     ]
    }
   ],
   "source": [
    "import pandas                    as pd\n",
    "import numpy                     as np\n",
    "\n",
    "import json\n",
    "import dash\n",
    "\n",
    "import dash_core_components      as dcc\n",
    "import dash_html_components      as html\n",
    "from dash.dependencies           import Input, Output\n",
    "import dash_bootstrap_components as dbc\n",
    "import plotly.express            as px\n",
    "import plotly.graph_objects      as go\n",
    "\n",
    "import warnings\n",
    "\n",
    "warnings.filterwarnings(\"ignore\") "
   ]
  },
  {
   "cell_type": "markdown",
   "id": "45c79b3c",
   "metadata": {},
   "source": [
    "## 2.0 Dataset"
   ]
  },
  {
   "cell_type": "code",
   "execution_count": 2,
   "id": "8662b1bf",
   "metadata": {},
   "outputs": [
    {
     "data": {
      "text/html": [
       "<div>\n",
       "<style scoped>\n",
       "    .dataframe tbody tr th:only-of-type {\n",
       "        vertical-align: middle;\n",
       "    }\n",
       "\n",
       "    .dataframe tbody tr th {\n",
       "        vertical-align: top;\n",
       "    }\n",
       "\n",
       "    .dataframe thead th {\n",
       "        text-align: right;\n",
       "    }\n",
       "</style>\n",
       "<table border=\"1\" class=\"dataframe\">\n",
       "  <thead>\n",
       "    <tr style=\"text-align: right;\">\n",
       "      <th></th>\n",
       "      <th>regiao</th>\n",
       "      <th>estado</th>\n",
       "      <th>municipio</th>\n",
       "      <th>coduf</th>\n",
       "      <th>codmun</th>\n",
       "      <th>codRegiaoSaude</th>\n",
       "      <th>nomeRegiaoSaude</th>\n",
       "      <th>data</th>\n",
       "      <th>semanaEpi</th>\n",
       "      <th>populacaoTCU2019</th>\n",
       "      <th>casosAcumulado</th>\n",
       "      <th>casosNovos</th>\n",
       "      <th>obitosAcumulado</th>\n",
       "      <th>obitosNovos</th>\n",
       "      <th>Recuperadosnovos</th>\n",
       "      <th>emAcompanhamentoNovos</th>\n",
       "      <th>interior/metropolitana</th>\n",
       "    </tr>\n",
       "  </thead>\n",
       "  <tbody>\n",
       "    <tr>\n",
       "      <th>0</th>\n",
       "      <td>Brasil</td>\n",
       "      <td>NaN</td>\n",
       "      <td>NaN</td>\n",
       "      <td>76</td>\n",
       "      <td>NaN</td>\n",
       "      <td>NaN</td>\n",
       "      <td>NaN</td>\n",
       "      <td>2023-01-01</td>\n",
       "      <td>1</td>\n",
       "      <td>210147125.0</td>\n",
       "      <td>36331281</td>\n",
       "      <td>0</td>\n",
       "      <td>693853</td>\n",
       "      <td>0</td>\n",
       "      <td>35006153.0</td>\n",
       "      <td>631275.0</td>\n",
       "      <td>NaN</td>\n",
       "    </tr>\n",
       "    <tr>\n",
       "      <th>1</th>\n",
       "      <td>Brasil</td>\n",
       "      <td>NaN</td>\n",
       "      <td>NaN</td>\n",
       "      <td>76</td>\n",
       "      <td>NaN</td>\n",
       "      <td>NaN</td>\n",
       "      <td>NaN</td>\n",
       "      <td>2023-01-02</td>\n",
       "      <td>1</td>\n",
       "      <td>210147125.0</td>\n",
       "      <td>36362366</td>\n",
       "      <td>31085</td>\n",
       "      <td>693981</td>\n",
       "      <td>128</td>\n",
       "      <td>35081933.0</td>\n",
       "      <td>586452.0</td>\n",
       "      <td>NaN</td>\n",
       "    </tr>\n",
       "    <tr>\n",
       "      <th>2</th>\n",
       "      <td>Brasil</td>\n",
       "      <td>NaN</td>\n",
       "      <td>NaN</td>\n",
       "      <td>76</td>\n",
       "      <td>NaN</td>\n",
       "      <td>NaN</td>\n",
       "      <td>NaN</td>\n",
       "      <td>2023-01-03</td>\n",
       "      <td>1</td>\n",
       "      <td>210147125.0</td>\n",
       "      <td>36390423</td>\n",
       "      <td>28057</td>\n",
       "      <td>694192</td>\n",
       "      <td>211</td>\n",
       "      <td>35147500.0</td>\n",
       "      <td>548731.0</td>\n",
       "      <td>NaN</td>\n",
       "    </tr>\n",
       "    <tr>\n",
       "      <th>3</th>\n",
       "      <td>Brasil</td>\n",
       "      <td>NaN</td>\n",
       "      <td>NaN</td>\n",
       "      <td>76</td>\n",
       "      <td>NaN</td>\n",
       "      <td>NaN</td>\n",
       "      <td>NaN</td>\n",
       "      <td>2023-01-04</td>\n",
       "      <td>1</td>\n",
       "      <td>210147125.0</td>\n",
       "      <td>36423138</td>\n",
       "      <td>32715</td>\n",
       "      <td>694411</td>\n",
       "      <td>219</td>\n",
       "      <td>35196324.0</td>\n",
       "      <td>532403.0</td>\n",
       "      <td>NaN</td>\n",
       "    </tr>\n",
       "    <tr>\n",
       "      <th>4</th>\n",
       "      <td>Brasil</td>\n",
       "      <td>NaN</td>\n",
       "      <td>NaN</td>\n",
       "      <td>76</td>\n",
       "      <td>NaN</td>\n",
       "      <td>NaN</td>\n",
       "      <td>NaN</td>\n",
       "      <td>2023-01-05</td>\n",
       "      <td>1</td>\n",
       "      <td>210147125.0</td>\n",
       "      <td>36450812</td>\n",
       "      <td>27674</td>\n",
       "      <td>694569</td>\n",
       "      <td>158</td>\n",
       "      <td>35225196.0</td>\n",
       "      <td>531047.0</td>\n",
       "      <td>NaN</td>\n",
       "    </tr>\n",
       "  </tbody>\n",
       "</table>\n",
       "</div>"
      ],
      "text/plain": [
       "   regiao estado municipio  coduf  codmun  codRegiaoSaude nomeRegiaoSaude  \\\n",
       "0  Brasil    NaN       NaN     76     NaN             NaN             NaN   \n",
       "1  Brasil    NaN       NaN     76     NaN             NaN             NaN   \n",
       "2  Brasil    NaN       NaN     76     NaN             NaN             NaN   \n",
       "3  Brasil    NaN       NaN     76     NaN             NaN             NaN   \n",
       "4  Brasil    NaN       NaN     76     NaN             NaN             NaN   \n",
       "\n",
       "         data  semanaEpi  populacaoTCU2019  casosAcumulado  casosNovos  \\\n",
       "0  2023-01-01          1       210147125.0        36331281           0   \n",
       "1  2023-01-02          1       210147125.0        36362366       31085   \n",
       "2  2023-01-03          1       210147125.0        36390423       28057   \n",
       "3  2023-01-04          1       210147125.0        36423138       32715   \n",
       "4  2023-01-05          1       210147125.0        36450812       27674   \n",
       "\n",
       "   obitosAcumulado  obitosNovos  Recuperadosnovos  emAcompanhamentoNovos  \\\n",
       "0           693853            0        35006153.0               631275.0   \n",
       "1           693981          128        35081933.0               586452.0   \n",
       "2           694192          211        35147500.0               548731.0   \n",
       "3           694411          219        35196324.0               532403.0   \n",
       "4           694569          158        35225196.0               531047.0   \n",
       "\n",
       "   interior/metropolitana  \n",
       "0                     NaN  \n",
       "1                     NaN  \n",
       "2                     NaN  \n",
       "3                     NaN  \n",
       "4                     NaN  "
      ]
     },
     "execution_count": 2,
     "metadata": {},
     "output_type": "execute_result"
    }
   ],
   "source": [
    "# Carregar os dados\n",
    "\n",
    "df = pd.read_csv('data/HIST_PAINEL_COVIDBR_2023_Parte1_31mai2023.csv', sep=';')\n",
    "\n",
    "df.head()"
   ]
  },
  {
   "cell_type": "markdown",
   "id": "3b9cad97",
   "metadata": {},
   "source": [
    "### 2.1 Criando um dataframe dos Estados"
   ]
  },
  {
   "cell_type": "code",
   "execution_count": 3,
   "id": "f23c9b7a",
   "metadata": {},
   "outputs": [
    {
     "data": {
      "text/html": [
       "<div>\n",
       "<style scoped>\n",
       "    .dataframe tbody tr th:only-of-type {\n",
       "        vertical-align: middle;\n",
       "    }\n",
       "\n",
       "    .dataframe tbody tr th {\n",
       "        vertical-align: top;\n",
       "    }\n",
       "\n",
       "    .dataframe thead th {\n",
       "        text-align: right;\n",
       "    }\n",
       "</style>\n",
       "<table border=\"1\" class=\"dataframe\">\n",
       "  <thead>\n",
       "    <tr style=\"text-align: right;\">\n",
       "      <th></th>\n",
       "      <th>regiao</th>\n",
       "      <th>estado</th>\n",
       "      <th>municipio</th>\n",
       "      <th>coduf</th>\n",
       "      <th>codmun</th>\n",
       "      <th>codRegiaoSaude</th>\n",
       "      <th>nomeRegiaoSaude</th>\n",
       "      <th>data</th>\n",
       "      <th>semanaEpi</th>\n",
       "      <th>populacaoTCU2019</th>\n",
       "      <th>casosAcumulado</th>\n",
       "      <th>casosNovos</th>\n",
       "      <th>obitosAcumulado</th>\n",
       "      <th>obitosNovos</th>\n",
       "      <th>Recuperadosnovos</th>\n",
       "      <th>emAcompanhamentoNovos</th>\n",
       "      <th>interior/metropolitana</th>\n",
       "    </tr>\n",
       "  </thead>\n",
       "  <tbody>\n",
       "    <tr>\n",
       "      <th>151</th>\n",
       "      <td>Norte</td>\n",
       "      <td>RO</td>\n",
       "      <td>NaN</td>\n",
       "      <td>11</td>\n",
       "      <td>NaN</td>\n",
       "      <td>NaN</td>\n",
       "      <td>NaN</td>\n",
       "      <td>2023-01-01</td>\n",
       "      <td>1</td>\n",
       "      <td>1777225.0</td>\n",
       "      <td>471673</td>\n",
       "      <td>0</td>\n",
       "      <td>7399</td>\n",
       "      <td>0</td>\n",
       "      <td>NaN</td>\n",
       "      <td>NaN</td>\n",
       "      <td>NaN</td>\n",
       "    </tr>\n",
       "    <tr>\n",
       "      <th>152</th>\n",
       "      <td>Norte</td>\n",
       "      <td>RO</td>\n",
       "      <td>NaN</td>\n",
       "      <td>11</td>\n",
       "      <td>NaN</td>\n",
       "      <td>NaN</td>\n",
       "      <td>NaN</td>\n",
       "      <td>2023-01-02</td>\n",
       "      <td>1</td>\n",
       "      <td>1777225.0</td>\n",
       "      <td>472112</td>\n",
       "      <td>439</td>\n",
       "      <td>7400</td>\n",
       "      <td>1</td>\n",
       "      <td>NaN</td>\n",
       "      <td>NaN</td>\n",
       "      <td>NaN</td>\n",
       "    </tr>\n",
       "    <tr>\n",
       "      <th>153</th>\n",
       "      <td>Norte</td>\n",
       "      <td>RO</td>\n",
       "      <td>NaN</td>\n",
       "      <td>11</td>\n",
       "      <td>NaN</td>\n",
       "      <td>NaN</td>\n",
       "      <td>NaN</td>\n",
       "      <td>2023-01-03</td>\n",
       "      <td>1</td>\n",
       "      <td>1777225.0</td>\n",
       "      <td>472459</td>\n",
       "      <td>347</td>\n",
       "      <td>7401</td>\n",
       "      <td>1</td>\n",
       "      <td>NaN</td>\n",
       "      <td>NaN</td>\n",
       "      <td>NaN</td>\n",
       "    </tr>\n",
       "    <tr>\n",
       "      <th>154</th>\n",
       "      <td>Norte</td>\n",
       "      <td>RO</td>\n",
       "      <td>NaN</td>\n",
       "      <td>11</td>\n",
       "      <td>NaN</td>\n",
       "      <td>NaN</td>\n",
       "      <td>NaN</td>\n",
       "      <td>2023-01-04</td>\n",
       "      <td>1</td>\n",
       "      <td>1777225.0</td>\n",
       "      <td>473198</td>\n",
       "      <td>739</td>\n",
       "      <td>7404</td>\n",
       "      <td>3</td>\n",
       "      <td>NaN</td>\n",
       "      <td>NaN</td>\n",
       "      <td>NaN</td>\n",
       "    </tr>\n",
       "    <tr>\n",
       "      <th>155</th>\n",
       "      <td>Norte</td>\n",
       "      <td>RO</td>\n",
       "      <td>NaN</td>\n",
       "      <td>11</td>\n",
       "      <td>NaN</td>\n",
       "      <td>NaN</td>\n",
       "      <td>NaN</td>\n",
       "      <td>2023-01-05</td>\n",
       "      <td>1</td>\n",
       "      <td>1777225.0</td>\n",
       "      <td>473724</td>\n",
       "      <td>526</td>\n",
       "      <td>7406</td>\n",
       "      <td>2</td>\n",
       "      <td>NaN</td>\n",
       "      <td>NaN</td>\n",
       "      <td>NaN</td>\n",
       "    </tr>\n",
       "    <tr>\n",
       "      <th>...</th>\n",
       "      <td>...</td>\n",
       "      <td>...</td>\n",
       "      <td>...</td>\n",
       "      <td>...</td>\n",
       "      <td>...</td>\n",
       "      <td>...</td>\n",
       "      <td>...</td>\n",
       "      <td>...</td>\n",
       "      <td>...</td>\n",
       "      <td>...</td>\n",
       "      <td>...</td>\n",
       "      <td>...</td>\n",
       "      <td>...</td>\n",
       "      <td>...</td>\n",
       "      <td>...</td>\n",
       "      <td>...</td>\n",
       "      <td>...</td>\n",
       "    </tr>\n",
       "    <tr>\n",
       "      <th>4223</th>\n",
       "      <td>Centro-Oeste</td>\n",
       "      <td>DF</td>\n",
       "      <td>NaN</td>\n",
       "      <td>53</td>\n",
       "      <td>NaN</td>\n",
       "      <td>NaN</td>\n",
       "      <td>NaN</td>\n",
       "      <td>2023-05-27</td>\n",
       "      <td>21</td>\n",
       "      <td>3015268.0</td>\n",
       "      <td>908276</td>\n",
       "      <td>720</td>\n",
       "      <td>11860</td>\n",
       "      <td>1</td>\n",
       "      <td>NaN</td>\n",
       "      <td>NaN</td>\n",
       "      <td>NaN</td>\n",
       "    </tr>\n",
       "    <tr>\n",
       "      <th>4224</th>\n",
       "      <td>Centro-Oeste</td>\n",
       "      <td>DF</td>\n",
       "      <td>NaN</td>\n",
       "      <td>53</td>\n",
       "      <td>NaN</td>\n",
       "      <td>NaN</td>\n",
       "      <td>NaN</td>\n",
       "      <td>2023-05-28</td>\n",
       "      <td>22</td>\n",
       "      <td>3015268.0</td>\n",
       "      <td>908276</td>\n",
       "      <td>0</td>\n",
       "      <td>11860</td>\n",
       "      <td>0</td>\n",
       "      <td>NaN</td>\n",
       "      <td>NaN</td>\n",
       "      <td>NaN</td>\n",
       "    </tr>\n",
       "    <tr>\n",
       "      <th>4225</th>\n",
       "      <td>Centro-Oeste</td>\n",
       "      <td>DF</td>\n",
       "      <td>NaN</td>\n",
       "      <td>53</td>\n",
       "      <td>NaN</td>\n",
       "      <td>NaN</td>\n",
       "      <td>NaN</td>\n",
       "      <td>2023-05-29</td>\n",
       "      <td>22</td>\n",
       "      <td>3015268.0</td>\n",
       "      <td>908276</td>\n",
       "      <td>0</td>\n",
       "      <td>11860</td>\n",
       "      <td>0</td>\n",
       "      <td>NaN</td>\n",
       "      <td>NaN</td>\n",
       "      <td>NaN</td>\n",
       "    </tr>\n",
       "    <tr>\n",
       "      <th>4226</th>\n",
       "      <td>Centro-Oeste</td>\n",
       "      <td>DF</td>\n",
       "      <td>NaN</td>\n",
       "      <td>53</td>\n",
       "      <td>NaN</td>\n",
       "      <td>NaN</td>\n",
       "      <td>NaN</td>\n",
       "      <td>2023-05-30</td>\n",
       "      <td>22</td>\n",
       "      <td>3015268.0</td>\n",
       "      <td>908276</td>\n",
       "      <td>0</td>\n",
       "      <td>11860</td>\n",
       "      <td>0</td>\n",
       "      <td>NaN</td>\n",
       "      <td>NaN</td>\n",
       "      <td>NaN</td>\n",
       "    </tr>\n",
       "    <tr>\n",
       "      <th>4227</th>\n",
       "      <td>Centro-Oeste</td>\n",
       "      <td>DF</td>\n",
       "      <td>NaN</td>\n",
       "      <td>53</td>\n",
       "      <td>NaN</td>\n",
       "      <td>NaN</td>\n",
       "      <td>NaN</td>\n",
       "      <td>2023-05-31</td>\n",
       "      <td>22</td>\n",
       "      <td>3015268.0</td>\n",
       "      <td>908276</td>\n",
       "      <td>0</td>\n",
       "      <td>11860</td>\n",
       "      <td>0</td>\n",
       "      <td>NaN</td>\n",
       "      <td>NaN</td>\n",
       "      <td>NaN</td>\n",
       "    </tr>\n",
       "  </tbody>\n",
       "</table>\n",
       "<p>4077 rows × 17 columns</p>\n",
       "</div>"
      ],
      "text/plain": [
       "            regiao estado municipio  coduf  codmun  codRegiaoSaude  \\\n",
       "151          Norte     RO       NaN     11     NaN             NaN   \n",
       "152          Norte     RO       NaN     11     NaN             NaN   \n",
       "153          Norte     RO       NaN     11     NaN             NaN   \n",
       "154          Norte     RO       NaN     11     NaN             NaN   \n",
       "155          Norte     RO       NaN     11     NaN             NaN   \n",
       "...            ...    ...       ...    ...     ...             ...   \n",
       "4223  Centro-Oeste     DF       NaN     53     NaN             NaN   \n",
       "4224  Centro-Oeste     DF       NaN     53     NaN             NaN   \n",
       "4225  Centro-Oeste     DF       NaN     53     NaN             NaN   \n",
       "4226  Centro-Oeste     DF       NaN     53     NaN             NaN   \n",
       "4227  Centro-Oeste     DF       NaN     53     NaN             NaN   \n",
       "\n",
       "     nomeRegiaoSaude        data  semanaEpi  populacaoTCU2019  casosAcumulado  \\\n",
       "151              NaN  2023-01-01          1         1777225.0          471673   \n",
       "152              NaN  2023-01-02          1         1777225.0          472112   \n",
       "153              NaN  2023-01-03          1         1777225.0          472459   \n",
       "154              NaN  2023-01-04          1         1777225.0          473198   \n",
       "155              NaN  2023-01-05          1         1777225.0          473724   \n",
       "...              ...         ...        ...               ...             ...   \n",
       "4223             NaN  2023-05-27         21         3015268.0          908276   \n",
       "4224             NaN  2023-05-28         22         3015268.0          908276   \n",
       "4225             NaN  2023-05-29         22         3015268.0          908276   \n",
       "4226             NaN  2023-05-30         22         3015268.0          908276   \n",
       "4227             NaN  2023-05-31         22         3015268.0          908276   \n",
       "\n",
       "      casosNovos  obitosAcumulado  obitosNovos  Recuperadosnovos  \\\n",
       "151            0             7399            0               NaN   \n",
       "152          439             7400            1               NaN   \n",
       "153          347             7401            1               NaN   \n",
       "154          739             7404            3               NaN   \n",
       "155          526             7406            2               NaN   \n",
       "...          ...              ...          ...               ...   \n",
       "4223         720            11860            1               NaN   \n",
       "4224           0            11860            0               NaN   \n",
       "4225           0            11860            0               NaN   \n",
       "4226           0            11860            0               NaN   \n",
       "4227           0            11860            0               NaN   \n",
       "\n",
       "      emAcompanhamentoNovos  interior/metropolitana  \n",
       "151                     NaN                     NaN  \n",
       "152                     NaN                     NaN  \n",
       "153                     NaN                     NaN  \n",
       "154                     NaN                     NaN  \n",
       "155                     NaN                     NaN  \n",
       "...                     ...                     ...  \n",
       "4223                    NaN                     NaN  \n",
       "4224                    NaN                     NaN  \n",
       "4225                    NaN                     NaN  \n",
       "4226                    NaN                     NaN  \n",
       "4227                    NaN                     NaN  \n",
       "\n",
       "[4077 rows x 17 columns]"
      ]
     },
     "execution_count": 3,
     "metadata": {},
     "output_type": "execute_result"
    }
   ],
   "source": [
    "# Removendo linhas sem informação do Estado (UF) e\n",
    "# Buscando apenas as linhas SEM informações do Município\n",
    "\n",
    "df_states = df[(~df['estado'].isna()) & (df['codmun'].isna())]\n",
    "df_states"
   ]
  },
  {
   "cell_type": "markdown",
   "id": "592b30ec",
   "metadata": {},
   "source": [
    "### 2.2 Criando um dataframe para o Brasil"
   ]
  },
  {
   "cell_type": "code",
   "execution_count": 4,
   "id": "aa97e2d6",
   "metadata": {},
   "outputs": [
    {
     "data": {
      "text/html": [
       "<div>\n",
       "<style scoped>\n",
       "    .dataframe tbody tr th:only-of-type {\n",
       "        vertical-align: middle;\n",
       "    }\n",
       "\n",
       "    .dataframe tbody tr th {\n",
       "        vertical-align: top;\n",
       "    }\n",
       "\n",
       "    .dataframe thead th {\n",
       "        text-align: right;\n",
       "    }\n",
       "</style>\n",
       "<table border=\"1\" class=\"dataframe\">\n",
       "  <thead>\n",
       "    <tr style=\"text-align: right;\">\n",
       "      <th></th>\n",
       "      <th>regiao</th>\n",
       "      <th>estado</th>\n",
       "      <th>municipio</th>\n",
       "      <th>coduf</th>\n",
       "      <th>codmun</th>\n",
       "      <th>codRegiaoSaude</th>\n",
       "      <th>nomeRegiaoSaude</th>\n",
       "      <th>data</th>\n",
       "      <th>semanaEpi</th>\n",
       "      <th>populacaoTCU2019</th>\n",
       "      <th>casosAcumulado</th>\n",
       "      <th>casosNovos</th>\n",
       "      <th>obitosAcumulado</th>\n",
       "      <th>obitosNovos</th>\n",
       "      <th>Recuperadosnovos</th>\n",
       "      <th>emAcompanhamentoNovos</th>\n",
       "      <th>interior/metropolitana</th>\n",
       "    </tr>\n",
       "  </thead>\n",
       "  <tbody>\n",
       "    <tr>\n",
       "      <th>0</th>\n",
       "      <td>Brasil</td>\n",
       "      <td>NaN</td>\n",
       "      <td>NaN</td>\n",
       "      <td>76</td>\n",
       "      <td>NaN</td>\n",
       "      <td>NaN</td>\n",
       "      <td>NaN</td>\n",
       "      <td>2023-01-01</td>\n",
       "      <td>1</td>\n",
       "      <td>210147125.0</td>\n",
       "      <td>36331281</td>\n",
       "      <td>0</td>\n",
       "      <td>693853</td>\n",
       "      <td>0</td>\n",
       "      <td>35006153.0</td>\n",
       "      <td>631275.0</td>\n",
       "      <td>NaN</td>\n",
       "    </tr>\n",
       "    <tr>\n",
       "      <th>1</th>\n",
       "      <td>Brasil</td>\n",
       "      <td>NaN</td>\n",
       "      <td>NaN</td>\n",
       "      <td>76</td>\n",
       "      <td>NaN</td>\n",
       "      <td>NaN</td>\n",
       "      <td>NaN</td>\n",
       "      <td>2023-01-02</td>\n",
       "      <td>1</td>\n",
       "      <td>210147125.0</td>\n",
       "      <td>36362366</td>\n",
       "      <td>31085</td>\n",
       "      <td>693981</td>\n",
       "      <td>128</td>\n",
       "      <td>35081933.0</td>\n",
       "      <td>586452.0</td>\n",
       "      <td>NaN</td>\n",
       "    </tr>\n",
       "    <tr>\n",
       "      <th>2</th>\n",
       "      <td>Brasil</td>\n",
       "      <td>NaN</td>\n",
       "      <td>NaN</td>\n",
       "      <td>76</td>\n",
       "      <td>NaN</td>\n",
       "      <td>NaN</td>\n",
       "      <td>NaN</td>\n",
       "      <td>2023-01-03</td>\n",
       "      <td>1</td>\n",
       "      <td>210147125.0</td>\n",
       "      <td>36390423</td>\n",
       "      <td>28057</td>\n",
       "      <td>694192</td>\n",
       "      <td>211</td>\n",
       "      <td>35147500.0</td>\n",
       "      <td>548731.0</td>\n",
       "      <td>NaN</td>\n",
       "    </tr>\n",
       "    <tr>\n",
       "      <th>3</th>\n",
       "      <td>Brasil</td>\n",
       "      <td>NaN</td>\n",
       "      <td>NaN</td>\n",
       "      <td>76</td>\n",
       "      <td>NaN</td>\n",
       "      <td>NaN</td>\n",
       "      <td>NaN</td>\n",
       "      <td>2023-01-04</td>\n",
       "      <td>1</td>\n",
       "      <td>210147125.0</td>\n",
       "      <td>36423138</td>\n",
       "      <td>32715</td>\n",
       "      <td>694411</td>\n",
       "      <td>219</td>\n",
       "      <td>35196324.0</td>\n",
       "      <td>532403.0</td>\n",
       "      <td>NaN</td>\n",
       "    </tr>\n",
       "    <tr>\n",
       "      <th>4</th>\n",
       "      <td>Brasil</td>\n",
       "      <td>NaN</td>\n",
       "      <td>NaN</td>\n",
       "      <td>76</td>\n",
       "      <td>NaN</td>\n",
       "      <td>NaN</td>\n",
       "      <td>NaN</td>\n",
       "      <td>2023-01-05</td>\n",
       "      <td>1</td>\n",
       "      <td>210147125.0</td>\n",
       "      <td>36450812</td>\n",
       "      <td>27674</td>\n",
       "      <td>694569</td>\n",
       "      <td>158</td>\n",
       "      <td>35225196.0</td>\n",
       "      <td>531047.0</td>\n",
       "      <td>NaN</td>\n",
       "    </tr>\n",
       "    <tr>\n",
       "      <th>...</th>\n",
       "      <td>...</td>\n",
       "      <td>...</td>\n",
       "      <td>...</td>\n",
       "      <td>...</td>\n",
       "      <td>...</td>\n",
       "      <td>...</td>\n",
       "      <td>...</td>\n",
       "      <td>...</td>\n",
       "      <td>...</td>\n",
       "      <td>...</td>\n",
       "      <td>...</td>\n",
       "      <td>...</td>\n",
       "      <td>...</td>\n",
       "      <td>...</td>\n",
       "      <td>...</td>\n",
       "      <td>...</td>\n",
       "      <td>...</td>\n",
       "    </tr>\n",
       "    <tr>\n",
       "      <th>146</th>\n",
       "      <td>Brasil</td>\n",
       "      <td>NaN</td>\n",
       "      <td>NaN</td>\n",
       "      <td>76</td>\n",
       "      <td>NaN</td>\n",
       "      <td>NaN</td>\n",
       "      <td>NaN</td>\n",
       "      <td>2023-05-27</td>\n",
       "      <td>21</td>\n",
       "      <td>210147125.0</td>\n",
       "      <td>37601257</td>\n",
       "      <td>22229</td>\n",
       "      <td>702907</td>\n",
       "      <td>243</td>\n",
       "      <td>36824460.0</td>\n",
       "      <td>73890.0</td>\n",
       "      <td>NaN</td>\n",
       "    </tr>\n",
       "    <tr>\n",
       "      <th>147</th>\n",
       "      <td>Brasil</td>\n",
       "      <td>NaN</td>\n",
       "      <td>NaN</td>\n",
       "      <td>76</td>\n",
       "      <td>NaN</td>\n",
       "      <td>NaN</td>\n",
       "      <td>NaN</td>\n",
       "      <td>2023-05-28</td>\n",
       "      <td>22</td>\n",
       "      <td>210147125.0</td>\n",
       "      <td>37601257</td>\n",
       "      <td>0</td>\n",
       "      <td>702907</td>\n",
       "      <td>0</td>\n",
       "      <td>36817136.0</td>\n",
       "      <td>81214.0</td>\n",
       "      <td>NaN</td>\n",
       "    </tr>\n",
       "    <tr>\n",
       "      <th>148</th>\n",
       "      <td>Brasil</td>\n",
       "      <td>NaN</td>\n",
       "      <td>NaN</td>\n",
       "      <td>76</td>\n",
       "      <td>NaN</td>\n",
       "      <td>NaN</td>\n",
       "      <td>NaN</td>\n",
       "      <td>2023-05-29</td>\n",
       "      <td>22</td>\n",
       "      <td>210147125.0</td>\n",
       "      <td>37601257</td>\n",
       "      <td>0</td>\n",
       "      <td>702907</td>\n",
       "      <td>0</td>\n",
       "      <td>36809805.0</td>\n",
       "      <td>88545.0</td>\n",
       "      <td>NaN</td>\n",
       "    </tr>\n",
       "    <tr>\n",
       "      <th>149</th>\n",
       "      <td>Brasil</td>\n",
       "      <td>NaN</td>\n",
       "      <td>NaN</td>\n",
       "      <td>76</td>\n",
       "      <td>NaN</td>\n",
       "      <td>NaN</td>\n",
       "      <td>NaN</td>\n",
       "      <td>2023-05-30</td>\n",
       "      <td>22</td>\n",
       "      <td>210147125.0</td>\n",
       "      <td>37601257</td>\n",
       "      <td>0</td>\n",
       "      <td>702907</td>\n",
       "      <td>0</td>\n",
       "      <td>36809805.0</td>\n",
       "      <td>88545.0</td>\n",
       "      <td>NaN</td>\n",
       "    </tr>\n",
       "    <tr>\n",
       "      <th>150</th>\n",
       "      <td>Brasil</td>\n",
       "      <td>NaN</td>\n",
       "      <td>NaN</td>\n",
       "      <td>76</td>\n",
       "      <td>NaN</td>\n",
       "      <td>NaN</td>\n",
       "      <td>NaN</td>\n",
       "      <td>2023-05-31</td>\n",
       "      <td>22</td>\n",
       "      <td>210147125.0</td>\n",
       "      <td>37601257</td>\n",
       "      <td>0</td>\n",
       "      <td>702907</td>\n",
       "      <td>0</td>\n",
       "      <td>36823510.0</td>\n",
       "      <td>74840.0</td>\n",
       "      <td>NaN</td>\n",
       "    </tr>\n",
       "  </tbody>\n",
       "</table>\n",
       "<p>151 rows × 17 columns</p>\n",
       "</div>"
      ],
      "text/plain": [
       "     regiao estado municipio  coduf  codmun  codRegiaoSaude nomeRegiaoSaude  \\\n",
       "0    Brasil    NaN       NaN     76     NaN             NaN             NaN   \n",
       "1    Brasil    NaN       NaN     76     NaN             NaN             NaN   \n",
       "2    Brasil    NaN       NaN     76     NaN             NaN             NaN   \n",
       "3    Brasil    NaN       NaN     76     NaN             NaN             NaN   \n",
       "4    Brasil    NaN       NaN     76     NaN             NaN             NaN   \n",
       "..      ...    ...       ...    ...     ...             ...             ...   \n",
       "146  Brasil    NaN       NaN     76     NaN             NaN             NaN   \n",
       "147  Brasil    NaN       NaN     76     NaN             NaN             NaN   \n",
       "148  Brasil    NaN       NaN     76     NaN             NaN             NaN   \n",
       "149  Brasil    NaN       NaN     76     NaN             NaN             NaN   \n",
       "150  Brasil    NaN       NaN     76     NaN             NaN             NaN   \n",
       "\n",
       "           data  semanaEpi  populacaoTCU2019  casosAcumulado  casosNovos  \\\n",
       "0    2023-01-01          1       210147125.0        36331281           0   \n",
       "1    2023-01-02          1       210147125.0        36362366       31085   \n",
       "2    2023-01-03          1       210147125.0        36390423       28057   \n",
       "3    2023-01-04          1       210147125.0        36423138       32715   \n",
       "4    2023-01-05          1       210147125.0        36450812       27674   \n",
       "..          ...        ...               ...             ...         ...   \n",
       "146  2023-05-27         21       210147125.0        37601257       22229   \n",
       "147  2023-05-28         22       210147125.0        37601257           0   \n",
       "148  2023-05-29         22       210147125.0        37601257           0   \n",
       "149  2023-05-30         22       210147125.0        37601257           0   \n",
       "150  2023-05-31         22       210147125.0        37601257           0   \n",
       "\n",
       "     obitosAcumulado  obitosNovos  Recuperadosnovos  emAcompanhamentoNovos  \\\n",
       "0             693853            0        35006153.0               631275.0   \n",
       "1             693981          128        35081933.0               586452.0   \n",
       "2             694192          211        35147500.0               548731.0   \n",
       "3             694411          219        35196324.0               532403.0   \n",
       "4             694569          158        35225196.0               531047.0   \n",
       "..               ...          ...               ...                    ...   \n",
       "146           702907          243        36824460.0                73890.0   \n",
       "147           702907            0        36817136.0                81214.0   \n",
       "148           702907            0        36809805.0                88545.0   \n",
       "149           702907            0        36809805.0                88545.0   \n",
       "150           702907            0        36823510.0                74840.0   \n",
       "\n",
       "     interior/metropolitana  \n",
       "0                       NaN  \n",
       "1                       NaN  \n",
       "2                       NaN  \n",
       "3                       NaN  \n",
       "4                       NaN  \n",
       "..                      ...  \n",
       "146                     NaN  \n",
       "147                     NaN  \n",
       "148                     NaN  \n",
       "149                     NaN  \n",
       "150                     NaN  \n",
       "\n",
       "[151 rows x 17 columns]"
      ]
     },
     "execution_count": 4,
     "metadata": {},
     "output_type": "execute_result"
    }
   ],
   "source": [
    "df_brasil = df[df['regiao'] == 'Brasil']\n",
    "df_brasil"
   ]
  },
  {
   "cell_type": "markdown",
   "id": "d6151ae4",
   "metadata": {},
   "source": [
    "### 2.3 Salvando os dataframes"
   ]
  },
  {
   "cell_type": "code",
   "execution_count": 5,
   "id": "65664761",
   "metadata": {},
   "outputs": [],
   "source": [
    "df_states.to_csv('data/df_states.csv') # salvando o df dos estados\n",
    "df_brasil.to_csv('data/df_brasil.csv') # salvando o df do Brasil"
   ]
  },
  {
   "cell_type": "markdown",
   "id": "098bdf5e",
   "metadata": {},
   "source": [
    "## 3.0 Mapas"
   ]
  },
  {
   "cell_type": "code",
   "execution_count": 6,
   "id": "e4abcabc",
   "metadata": {},
   "outputs": [],
   "source": [
    "# carregando os dados\n",
    "\n",
    "df_states = pd.read_csv('data/df_states.csv')\n",
    "df_brasil = pd.read_csv('data/df_brasil.csv')\n",
    "\n",
    "# Abrir o arquivo de geolocalização com o 'json'\n",
    "brasil_states = json.load(open('geojson/brazil_geo.json', 'r'))"
   ]
  },
  {
   "cell_type": "markdown",
   "id": "a6daf1bf",
   "metadata": {},
   "source": [
    "### 3.1 Instanciação do Mapa"
   ]
  },
  {
   "cell_type": "code",
   "execution_count": 15,
   "id": "f70e004d",
   "metadata": {},
   "outputs": [
    {
     "name": "stderr",
     "output_type": "stream",
     "text": [
      "C:\\Users\\d311r.DESKTOP-O2NL7MH\\anaconda3\\lib\\site-packages\\plotly\\graph_objs\\_deprecations.py:405: DeprecationWarning:\n",
      "\n",
      "plotly.graph_objs.Margin is deprecated.\n",
      "Please replace it with one of the following more specific types\n",
      "  - plotly.graph_objs.layout.Margin\n",
      "\n",
      "\n"
     ]
    },
    {
     "data": {
      "application/vnd.plotly.v1+json": {
       "config": {
        "plotlyServerURL": "https://plot.ly"
       },
       "data": [
        {
         "type": "scatter",
         "x": [
          "2023-01-01",
          "2023-01-02",
          "2023-01-03",
          "2023-01-04",
          "2023-01-05",
          "2023-01-06",
          "2023-01-07",
          "2023-01-08",
          "2023-01-09",
          "2023-01-10",
          "2023-01-11",
          "2023-01-12",
          "2023-01-13",
          "2023-01-14",
          "2023-01-15",
          "2023-01-16",
          "2023-01-17",
          "2023-01-18",
          "2023-01-19",
          "2023-01-20",
          "2023-01-21",
          "2023-01-22",
          "2023-01-23",
          "2023-01-24",
          "2023-01-25",
          "2023-01-26",
          "2023-01-27",
          "2023-01-28",
          "2023-01-29",
          "2023-01-30",
          "2023-01-31",
          "2023-02-01",
          "2023-02-02",
          "2023-02-03",
          "2023-02-04",
          "2023-02-05",
          "2023-02-06",
          "2023-02-07",
          "2023-02-08",
          "2023-02-09",
          "2023-02-10",
          "2023-02-11",
          "2023-02-12",
          "2023-02-13",
          "2023-02-14",
          "2023-02-15",
          "2023-02-16",
          "2023-02-17",
          "2023-02-18",
          "2023-02-19",
          "2023-02-20",
          "2023-02-21",
          "2023-02-22",
          "2023-02-23",
          "2023-02-24",
          "2023-02-25",
          "2023-02-26",
          "2023-02-27",
          "2023-02-28",
          "2023-03-01",
          "2023-03-02",
          "2023-03-03",
          "2023-03-04",
          "2023-03-05",
          "2023-03-06",
          "2023-03-07",
          "2023-03-08",
          "2023-03-09",
          "2023-03-10",
          "2023-03-11",
          "2023-03-12",
          "2023-03-13",
          "2023-03-14",
          "2023-03-15",
          "2023-03-16",
          "2023-03-17",
          "2023-03-18",
          "2023-03-19",
          "2023-03-20",
          "2023-03-21",
          "2023-03-22",
          "2023-03-23",
          "2023-03-24",
          "2023-03-25",
          "2023-03-26",
          "2023-03-27",
          "2023-03-28",
          "2023-03-29",
          "2023-03-30",
          "2023-03-31",
          "2023-04-01",
          "2023-04-02",
          "2023-04-03",
          "2023-04-04",
          "2023-04-05",
          "2023-04-06",
          "2023-04-07",
          "2023-04-08",
          "2023-04-09",
          "2023-04-10",
          "2023-04-11",
          "2023-04-12",
          "2023-04-13",
          "2023-04-14",
          "2023-04-15",
          "2023-04-16",
          "2023-04-17",
          "2023-04-18",
          "2023-04-19",
          "2023-04-20",
          "2023-04-21",
          "2023-04-22",
          "2023-04-23",
          "2023-04-24",
          "2023-04-25",
          "2023-04-26",
          "2023-04-27",
          "2023-04-28",
          "2023-04-29",
          "2023-04-30",
          "2023-05-01",
          "2023-05-02",
          "2023-05-03",
          "2023-05-04",
          "2023-05-05",
          "2023-05-06",
          "2023-05-07",
          "2023-05-08",
          "2023-05-09",
          "2023-05-10",
          "2023-05-11",
          "2023-05-12",
          "2023-05-13",
          "2023-05-14",
          "2023-05-15",
          "2023-05-16",
          "2023-05-17",
          "2023-05-18",
          "2023-05-19",
          "2023-05-20",
          "2023-05-21",
          "2023-05-22",
          "2023-05-23",
          "2023-05-24",
          "2023-05-25",
          "2023-05-26",
          "2023-05-27",
          "2023-05-28",
          "2023-05-29",
          "2023-05-30",
          "2023-05-31"
         ],
         "y": [
          2895571,
          2901027,
          2905566,
          2909726,
          2913615,
          2917305,
          2917305,
          2917305,
          2921420,
          2924412,
          2926949,
          2929260,
          2931576,
          2931576,
          2931576,
          2933976,
          2935967,
          2936772,
          2939187,
          2940791,
          2940791,
          2940791,
          2942710,
          2943884,
          2945168,
          2946223,
          2947133,
          2947133,
          2947133,
          2948226,
          2949275,
          2950172,
          2950172,
          2951318,
          2951318,
          2951318,
          2951964,
          2952704,
          2953098,
          2953628,
          2953628,
          2953628,
          2953628,
          2954738,
          2955238,
          2955695,
          2956189,
          2956658,
          2956658,
          2956658,
          2956658,
          2956658,
          2957452,
          2957835,
          2958495,
          2958495,
          2958495,
          2959192,
          2959883,
          2960590,
          2961233,
          2961756,
          2962414,
          2962414,
          2962414,
          2962414,
          2962414,
          2962414,
          2962414,
          2966100,
          2966100,
          2966100,
          2966100,
          2966100,
          2966100,
          2966100,
          2974090,
          2974090,
          2974090,
          2974090,
          2974090,
          2974090,
          2974090,
          2982783,
          2982783,
          2982783,
          2982783,
          2982783,
          2982783,
          2982783,
          2991258,
          2991258,
          2991258,
          2991258,
          2991258,
          2991258,
          2991258,
          3001676,
          3001676,
          3001676,
          3001676,
          3001676,
          3001676,
          3001676,
          3012467,
          3012467,
          3012467,
          3012467,
          3012467,
          3012467,
          3012467,
          3020490,
          3020490,
          3020490,
          3020490,
          3020490,
          3020490,
          3020490,
          3027358,
          3027358,
          3027358,
          3027358,
          3027358,
          3027358,
          3027358,
          3032069,
          3032069,
          3032069,
          3032069,
          3032069,
          3032069,
          3032069,
          3036116,
          3036116,
          3036116,
          3036116,
          3036116,
          3036116,
          3036116,
          3039495,
          3039495,
          3039495,
          3039495,
          3039495,
          3039495,
          3039495,
          3041975,
          3041975,
          3041975,
          3041975,
          3041975
         ]
        }
       ],
       "layout": {
        "autosize": true,
        "margin": {
         "b": 10,
         "l": 10,
         "r": 10,
         "t": 10
        },
        "paper_bgcolor": "#242424",
        "plot_bgcolor": "#242424",
        "template": {
         "data": {
          "bar": [
           {
            "error_x": {
             "color": "#f2f5fa"
            },
            "error_y": {
             "color": "#f2f5fa"
            },
            "marker": {
             "line": {
              "color": "rgb(17,17,17)",
              "width": 0.5
             },
             "pattern": {
              "fillmode": "overlay",
              "size": 10,
              "solidity": 0.2
             }
            },
            "type": "bar"
           }
          ],
          "barpolar": [
           {
            "marker": {
             "line": {
              "color": "rgb(17,17,17)",
              "width": 0.5
             },
             "pattern": {
              "fillmode": "overlay",
              "size": 10,
              "solidity": 0.2
             }
            },
            "type": "barpolar"
           }
          ],
          "carpet": [
           {
            "aaxis": {
             "endlinecolor": "#A2B1C6",
             "gridcolor": "#506784",
             "linecolor": "#506784",
             "minorgridcolor": "#506784",
             "startlinecolor": "#A2B1C6"
            },
            "baxis": {
             "endlinecolor": "#A2B1C6",
             "gridcolor": "#506784",
             "linecolor": "#506784",
             "minorgridcolor": "#506784",
             "startlinecolor": "#A2B1C6"
            },
            "type": "carpet"
           }
          ],
          "choropleth": [
           {
            "colorbar": {
             "outlinewidth": 0,
             "ticks": ""
            },
            "type": "choropleth"
           }
          ],
          "contour": [
           {
            "colorbar": {
             "outlinewidth": 0,
             "ticks": ""
            },
            "colorscale": [
             [
              0,
              "#0d0887"
             ],
             [
              0.1111111111111111,
              "#46039f"
             ],
             [
              0.2222222222222222,
              "#7201a8"
             ],
             [
              0.3333333333333333,
              "#9c179e"
             ],
             [
              0.4444444444444444,
              "#bd3786"
             ],
             [
              0.5555555555555556,
              "#d8576b"
             ],
             [
              0.6666666666666666,
              "#ed7953"
             ],
             [
              0.7777777777777778,
              "#fb9f3a"
             ],
             [
              0.8888888888888888,
              "#fdca26"
             ],
             [
              1,
              "#f0f921"
             ]
            ],
            "type": "contour"
           }
          ],
          "contourcarpet": [
           {
            "colorbar": {
             "outlinewidth": 0,
             "ticks": ""
            },
            "type": "contourcarpet"
           }
          ],
          "heatmap": [
           {
            "colorbar": {
             "outlinewidth": 0,
             "ticks": ""
            },
            "colorscale": [
             [
              0,
              "#0d0887"
             ],
             [
              0.1111111111111111,
              "#46039f"
             ],
             [
              0.2222222222222222,
              "#7201a8"
             ],
             [
              0.3333333333333333,
              "#9c179e"
             ],
             [
              0.4444444444444444,
              "#bd3786"
             ],
             [
              0.5555555555555556,
              "#d8576b"
             ],
             [
              0.6666666666666666,
              "#ed7953"
             ],
             [
              0.7777777777777778,
              "#fb9f3a"
             ],
             [
              0.8888888888888888,
              "#fdca26"
             ],
             [
              1,
              "#f0f921"
             ]
            ],
            "type": "heatmap"
           }
          ],
          "heatmapgl": [
           {
            "colorbar": {
             "outlinewidth": 0,
             "ticks": ""
            },
            "colorscale": [
             [
              0,
              "#0d0887"
             ],
             [
              0.1111111111111111,
              "#46039f"
             ],
             [
              0.2222222222222222,
              "#7201a8"
             ],
             [
              0.3333333333333333,
              "#9c179e"
             ],
             [
              0.4444444444444444,
              "#bd3786"
             ],
             [
              0.5555555555555556,
              "#d8576b"
             ],
             [
              0.6666666666666666,
              "#ed7953"
             ],
             [
              0.7777777777777778,
              "#fb9f3a"
             ],
             [
              0.8888888888888888,
              "#fdca26"
             ],
             [
              1,
              "#f0f921"
             ]
            ],
            "type": "heatmapgl"
           }
          ],
          "histogram": [
           {
            "marker": {
             "pattern": {
              "fillmode": "overlay",
              "size": 10,
              "solidity": 0.2
             }
            },
            "type": "histogram"
           }
          ],
          "histogram2d": [
           {
            "colorbar": {
             "outlinewidth": 0,
             "ticks": ""
            },
            "colorscale": [
             [
              0,
              "#0d0887"
             ],
             [
              0.1111111111111111,
              "#46039f"
             ],
             [
              0.2222222222222222,
              "#7201a8"
             ],
             [
              0.3333333333333333,
              "#9c179e"
             ],
             [
              0.4444444444444444,
              "#bd3786"
             ],
             [
              0.5555555555555556,
              "#d8576b"
             ],
             [
              0.6666666666666666,
              "#ed7953"
             ],
             [
              0.7777777777777778,
              "#fb9f3a"
             ],
             [
              0.8888888888888888,
              "#fdca26"
             ],
             [
              1,
              "#f0f921"
             ]
            ],
            "type": "histogram2d"
           }
          ],
          "histogram2dcontour": [
           {
            "colorbar": {
             "outlinewidth": 0,
             "ticks": ""
            },
            "colorscale": [
             [
              0,
              "#0d0887"
             ],
             [
              0.1111111111111111,
              "#46039f"
             ],
             [
              0.2222222222222222,
              "#7201a8"
             ],
             [
              0.3333333333333333,
              "#9c179e"
             ],
             [
              0.4444444444444444,
              "#bd3786"
             ],
             [
              0.5555555555555556,
              "#d8576b"
             ],
             [
              0.6666666666666666,
              "#ed7953"
             ],
             [
              0.7777777777777778,
              "#fb9f3a"
             ],
             [
              0.8888888888888888,
              "#fdca26"
             ],
             [
              1,
              "#f0f921"
             ]
            ],
            "type": "histogram2dcontour"
           }
          ],
          "mesh3d": [
           {
            "colorbar": {
             "outlinewidth": 0,
             "ticks": ""
            },
            "type": "mesh3d"
           }
          ],
          "parcoords": [
           {
            "line": {
             "colorbar": {
              "outlinewidth": 0,
              "ticks": ""
             }
            },
            "type": "parcoords"
           }
          ],
          "pie": [
           {
            "automargin": true,
            "type": "pie"
           }
          ],
          "scatter": [
           {
            "marker": {
             "line": {
              "color": "#283442"
             }
            },
            "type": "scatter"
           }
          ],
          "scatter3d": [
           {
            "line": {
             "colorbar": {
              "outlinewidth": 0,
              "ticks": ""
             }
            },
            "marker": {
             "colorbar": {
              "outlinewidth": 0,
              "ticks": ""
             }
            },
            "type": "scatter3d"
           }
          ],
          "scattercarpet": [
           {
            "marker": {
             "colorbar": {
              "outlinewidth": 0,
              "ticks": ""
             }
            },
            "type": "scattercarpet"
           }
          ],
          "scattergeo": [
           {
            "marker": {
             "colorbar": {
              "outlinewidth": 0,
              "ticks": ""
             }
            },
            "type": "scattergeo"
           }
          ],
          "scattergl": [
           {
            "marker": {
             "line": {
              "color": "#283442"
             }
            },
            "type": "scattergl"
           }
          ],
          "scattermapbox": [
           {
            "marker": {
             "colorbar": {
              "outlinewidth": 0,
              "ticks": ""
             }
            },
            "type": "scattermapbox"
           }
          ],
          "scatterpolar": [
           {
            "marker": {
             "colorbar": {
              "outlinewidth": 0,
              "ticks": ""
             }
            },
            "type": "scatterpolar"
           }
          ],
          "scatterpolargl": [
           {
            "marker": {
             "colorbar": {
              "outlinewidth": 0,
              "ticks": ""
             }
            },
            "type": "scatterpolargl"
           }
          ],
          "scatterternary": [
           {
            "marker": {
             "colorbar": {
              "outlinewidth": 0,
              "ticks": ""
             }
            },
            "type": "scatterternary"
           }
          ],
          "surface": [
           {
            "colorbar": {
             "outlinewidth": 0,
             "ticks": ""
            },
            "colorscale": [
             [
              0,
              "#0d0887"
             ],
             [
              0.1111111111111111,
              "#46039f"
             ],
             [
              0.2222222222222222,
              "#7201a8"
             ],
             [
              0.3333333333333333,
              "#9c179e"
             ],
             [
              0.4444444444444444,
              "#bd3786"
             ],
             [
              0.5555555555555556,
              "#d8576b"
             ],
             [
              0.6666666666666666,
              "#ed7953"
             ],
             [
              0.7777777777777778,
              "#fb9f3a"
             ],
             [
              0.8888888888888888,
              "#fdca26"
             ],
             [
              1,
              "#f0f921"
             ]
            ],
            "type": "surface"
           }
          ],
          "table": [
           {
            "cells": {
             "fill": {
              "color": "#506784"
             },
             "line": {
              "color": "rgb(17,17,17)"
             }
            },
            "header": {
             "fill": {
              "color": "#2a3f5f"
             },
             "line": {
              "color": "rgb(17,17,17)"
             }
            },
            "type": "table"
           }
          ]
         },
         "layout": {
          "annotationdefaults": {
           "arrowcolor": "#f2f5fa",
           "arrowhead": 0,
           "arrowwidth": 1
          },
          "autotypenumbers": "strict",
          "coloraxis": {
           "colorbar": {
            "outlinewidth": 0,
            "ticks": ""
           }
          },
          "colorscale": {
           "diverging": [
            [
             0,
             "#8e0152"
            ],
            [
             0.1,
             "#c51b7d"
            ],
            [
             0.2,
             "#de77ae"
            ],
            [
             0.3,
             "#f1b6da"
            ],
            [
             0.4,
             "#fde0ef"
            ],
            [
             0.5,
             "#f7f7f7"
            ],
            [
             0.6,
             "#e6f5d0"
            ],
            [
             0.7,
             "#b8e186"
            ],
            [
             0.8,
             "#7fbc41"
            ],
            [
             0.9,
             "#4d9221"
            ],
            [
             1,
             "#276419"
            ]
           ],
           "sequential": [
            [
             0,
             "#0d0887"
            ],
            [
             0.1111111111111111,
             "#46039f"
            ],
            [
             0.2222222222222222,
             "#7201a8"
            ],
            [
             0.3333333333333333,
             "#9c179e"
            ],
            [
             0.4444444444444444,
             "#bd3786"
            ],
            [
             0.5555555555555556,
             "#d8576b"
            ],
            [
             0.6666666666666666,
             "#ed7953"
            ],
            [
             0.7777777777777778,
             "#fb9f3a"
            ],
            [
             0.8888888888888888,
             "#fdca26"
            ],
            [
             1,
             "#f0f921"
            ]
           ],
           "sequentialminus": [
            [
             0,
             "#0d0887"
            ],
            [
             0.1111111111111111,
             "#46039f"
            ],
            [
             0.2222222222222222,
             "#7201a8"
            ],
            [
             0.3333333333333333,
             "#9c179e"
            ],
            [
             0.4444444444444444,
             "#bd3786"
            ],
            [
             0.5555555555555556,
             "#d8576b"
            ],
            [
             0.6666666666666666,
             "#ed7953"
            ],
            [
             0.7777777777777778,
             "#fb9f3a"
            ],
            [
             0.8888888888888888,
             "#fdca26"
            ],
            [
             1,
             "#f0f921"
            ]
           ]
          },
          "colorway": [
           "#636efa",
           "#EF553B",
           "#00cc96",
           "#ab63fa",
           "#FFA15A",
           "#19d3f3",
           "#FF6692",
           "#B6E880",
           "#FF97FF",
           "#FECB52"
          ],
          "font": {
           "color": "#f2f5fa"
          },
          "geo": {
           "bgcolor": "rgb(17,17,17)",
           "lakecolor": "rgb(17,17,17)",
           "landcolor": "rgb(17,17,17)",
           "showlakes": true,
           "showland": true,
           "subunitcolor": "#506784"
          },
          "hoverlabel": {
           "align": "left"
          },
          "hovermode": "closest",
          "mapbox": {
           "style": "dark"
          },
          "paper_bgcolor": "rgb(17,17,17)",
          "plot_bgcolor": "rgb(17,17,17)",
          "polar": {
           "angularaxis": {
            "gridcolor": "#506784",
            "linecolor": "#506784",
            "ticks": ""
           },
           "bgcolor": "rgb(17,17,17)",
           "radialaxis": {
            "gridcolor": "#506784",
            "linecolor": "#506784",
            "ticks": ""
           }
          },
          "scene": {
           "xaxis": {
            "backgroundcolor": "rgb(17,17,17)",
            "gridcolor": "#506784",
            "gridwidth": 2,
            "linecolor": "#506784",
            "showbackground": true,
            "ticks": "",
            "zerolinecolor": "#C8D4E3"
           },
           "yaxis": {
            "backgroundcolor": "rgb(17,17,17)",
            "gridcolor": "#506784",
            "gridwidth": 2,
            "linecolor": "#506784",
            "showbackground": true,
            "ticks": "",
            "zerolinecolor": "#C8D4E3"
           },
           "zaxis": {
            "backgroundcolor": "rgb(17,17,17)",
            "gridcolor": "#506784",
            "gridwidth": 2,
            "linecolor": "#506784",
            "showbackground": true,
            "ticks": "",
            "zerolinecolor": "#C8D4E3"
           }
          },
          "shapedefaults": {
           "line": {
            "color": "#f2f5fa"
           }
          },
          "sliderdefaults": {
           "bgcolor": "#C8D4E3",
           "bordercolor": "rgb(17,17,17)",
           "borderwidth": 1,
           "tickwidth": 0
          },
          "ternary": {
           "aaxis": {
            "gridcolor": "#506784",
            "linecolor": "#506784",
            "ticks": ""
           },
           "baxis": {
            "gridcolor": "#506784",
            "linecolor": "#506784",
            "ticks": ""
           },
           "bgcolor": "rgb(17,17,17)",
           "caxis": {
            "gridcolor": "#506784",
            "linecolor": "#506784",
            "ticks": ""
           }
          },
          "title": {
           "x": 0.05
          },
          "updatemenudefaults": {
           "bgcolor": "#506784",
           "borderwidth": 0
          },
          "xaxis": {
           "automargin": true,
           "gridcolor": "#283442",
           "linecolor": "#506784",
           "ticks": "",
           "title": {
            "standoff": 15
           },
           "zerolinecolor": "#283442",
           "zerolinewidth": 2
          },
          "yaxis": {
           "automargin": true,
           "gridcolor": "#283442",
           "linecolor": "#506784",
           "ticks": "",
           "title": {
            "standoff": 15
           },
           "zerolinecolor": "#283442",
           "zerolinewidth": 2
          }
         }
        }
       }
      },
      "text/html": [
       "<div>                            <div id=\"afc8bb4f-8bd7-4e4f-b64e-2253d7a89d3e\" class=\"plotly-graph-div\" style=\"height:525px; width:100%;\"></div>            <script type=\"text/javascript\">                require([\"plotly\"], function(Plotly) {                    window.PLOTLYENV=window.PLOTLYENV || {};                                    if (document.getElementById(\"afc8bb4f-8bd7-4e4f-b64e-2253d7a89d3e\")) {                    Plotly.newPlot(                        \"afc8bb4f-8bd7-4e4f-b64e-2253d7a89d3e\",                        [{\"x\":[\"2023-01-01\",\"2023-01-02\",\"2023-01-03\",\"2023-01-04\",\"2023-01-05\",\"2023-01-06\",\"2023-01-07\",\"2023-01-08\",\"2023-01-09\",\"2023-01-10\",\"2023-01-11\",\"2023-01-12\",\"2023-01-13\",\"2023-01-14\",\"2023-01-15\",\"2023-01-16\",\"2023-01-17\",\"2023-01-18\",\"2023-01-19\",\"2023-01-20\",\"2023-01-21\",\"2023-01-22\",\"2023-01-23\",\"2023-01-24\",\"2023-01-25\",\"2023-01-26\",\"2023-01-27\",\"2023-01-28\",\"2023-01-29\",\"2023-01-30\",\"2023-01-31\",\"2023-02-01\",\"2023-02-02\",\"2023-02-03\",\"2023-02-04\",\"2023-02-05\",\"2023-02-06\",\"2023-02-07\",\"2023-02-08\",\"2023-02-09\",\"2023-02-10\",\"2023-02-11\",\"2023-02-12\",\"2023-02-13\",\"2023-02-14\",\"2023-02-15\",\"2023-02-16\",\"2023-02-17\",\"2023-02-18\",\"2023-02-19\",\"2023-02-20\",\"2023-02-21\",\"2023-02-22\",\"2023-02-23\",\"2023-02-24\",\"2023-02-25\",\"2023-02-26\",\"2023-02-27\",\"2023-02-28\",\"2023-03-01\",\"2023-03-02\",\"2023-03-03\",\"2023-03-04\",\"2023-03-05\",\"2023-03-06\",\"2023-03-07\",\"2023-03-08\",\"2023-03-09\",\"2023-03-10\",\"2023-03-11\",\"2023-03-12\",\"2023-03-13\",\"2023-03-14\",\"2023-03-15\",\"2023-03-16\",\"2023-03-17\",\"2023-03-18\",\"2023-03-19\",\"2023-03-20\",\"2023-03-21\",\"2023-03-22\",\"2023-03-23\",\"2023-03-24\",\"2023-03-25\",\"2023-03-26\",\"2023-03-27\",\"2023-03-28\",\"2023-03-29\",\"2023-03-30\",\"2023-03-31\",\"2023-04-01\",\"2023-04-02\",\"2023-04-03\",\"2023-04-04\",\"2023-04-05\",\"2023-04-06\",\"2023-04-07\",\"2023-04-08\",\"2023-04-09\",\"2023-04-10\",\"2023-04-11\",\"2023-04-12\",\"2023-04-13\",\"2023-04-14\",\"2023-04-15\",\"2023-04-16\",\"2023-04-17\",\"2023-04-18\",\"2023-04-19\",\"2023-04-20\",\"2023-04-21\",\"2023-04-22\",\"2023-04-23\",\"2023-04-24\",\"2023-04-25\",\"2023-04-26\",\"2023-04-27\",\"2023-04-28\",\"2023-04-29\",\"2023-04-30\",\"2023-05-01\",\"2023-05-02\",\"2023-05-03\",\"2023-05-04\",\"2023-05-05\",\"2023-05-06\",\"2023-05-07\",\"2023-05-08\",\"2023-05-09\",\"2023-05-10\",\"2023-05-11\",\"2023-05-12\",\"2023-05-13\",\"2023-05-14\",\"2023-05-15\",\"2023-05-16\",\"2023-05-17\",\"2023-05-18\",\"2023-05-19\",\"2023-05-20\",\"2023-05-21\",\"2023-05-22\",\"2023-05-23\",\"2023-05-24\",\"2023-05-25\",\"2023-05-26\",\"2023-05-27\",\"2023-05-28\",\"2023-05-29\",\"2023-05-30\",\"2023-05-31\"],\"y\":[2895571,2901027,2905566,2909726,2913615,2917305,2917305,2917305,2921420,2924412,2926949,2929260,2931576,2931576,2931576,2933976,2935967,2936772,2939187,2940791,2940791,2940791,2942710,2943884,2945168,2946223,2947133,2947133,2947133,2948226,2949275,2950172,2950172,2951318,2951318,2951318,2951964,2952704,2953098,2953628,2953628,2953628,2953628,2954738,2955238,2955695,2956189,2956658,2956658,2956658,2956658,2956658,2957452,2957835,2958495,2958495,2958495,2959192,2959883,2960590,2961233,2961756,2962414,2962414,2962414,2962414,2962414,2962414,2962414,2966100,2966100,2966100,2966100,2966100,2966100,2966100,2974090,2974090,2974090,2974090,2974090,2974090,2974090,2982783,2982783,2982783,2982783,2982783,2982783,2982783,2991258,2991258,2991258,2991258,2991258,2991258,2991258,3001676,3001676,3001676,3001676,3001676,3001676,3001676,3012467,3012467,3012467,3012467,3012467,3012467,3012467,3020490,3020490,3020490,3020490,3020490,3020490,3020490,3027358,3027358,3027358,3027358,3027358,3027358,3027358,3032069,3032069,3032069,3032069,3032069,3032069,3032069,3036116,3036116,3036116,3036116,3036116,3036116,3036116,3039495,3039495,3039495,3039495,3039495,3039495,3039495,3041975,3041975,3041975,3041975,3041975],\"type\":\"scatter\"}],                        {\"template\":{\"data\":{\"barpolar\":[{\"marker\":{\"line\":{\"color\":\"rgb(17,17,17)\",\"width\":0.5},\"pattern\":{\"fillmode\":\"overlay\",\"size\":10,\"solidity\":0.2}},\"type\":\"barpolar\"}],\"bar\":[{\"error_x\":{\"color\":\"#f2f5fa\"},\"error_y\":{\"color\":\"#f2f5fa\"},\"marker\":{\"line\":{\"color\":\"rgb(17,17,17)\",\"width\":0.5},\"pattern\":{\"fillmode\":\"overlay\",\"size\":10,\"solidity\":0.2}},\"type\":\"bar\"}],\"carpet\":[{\"aaxis\":{\"endlinecolor\":\"#A2B1C6\",\"gridcolor\":\"#506784\",\"linecolor\":\"#506784\",\"minorgridcolor\":\"#506784\",\"startlinecolor\":\"#A2B1C6\"},\"baxis\":{\"endlinecolor\":\"#A2B1C6\",\"gridcolor\":\"#506784\",\"linecolor\":\"#506784\",\"minorgridcolor\":\"#506784\",\"startlinecolor\":\"#A2B1C6\"},\"type\":\"carpet\"}],\"choropleth\":[{\"colorbar\":{\"outlinewidth\":0,\"ticks\":\"\"},\"type\":\"choropleth\"}],\"contourcarpet\":[{\"colorbar\":{\"outlinewidth\":0,\"ticks\":\"\"},\"type\":\"contourcarpet\"}],\"contour\":[{\"colorbar\":{\"outlinewidth\":0,\"ticks\":\"\"},\"colorscale\":[[0.0,\"#0d0887\"],[0.1111111111111111,\"#46039f\"],[0.2222222222222222,\"#7201a8\"],[0.3333333333333333,\"#9c179e\"],[0.4444444444444444,\"#bd3786\"],[0.5555555555555556,\"#d8576b\"],[0.6666666666666666,\"#ed7953\"],[0.7777777777777778,\"#fb9f3a\"],[0.8888888888888888,\"#fdca26\"],[1.0,\"#f0f921\"]],\"type\":\"contour\"}],\"heatmapgl\":[{\"colorbar\":{\"outlinewidth\":0,\"ticks\":\"\"},\"colorscale\":[[0.0,\"#0d0887\"],[0.1111111111111111,\"#46039f\"],[0.2222222222222222,\"#7201a8\"],[0.3333333333333333,\"#9c179e\"],[0.4444444444444444,\"#bd3786\"],[0.5555555555555556,\"#d8576b\"],[0.6666666666666666,\"#ed7953\"],[0.7777777777777778,\"#fb9f3a\"],[0.8888888888888888,\"#fdca26\"],[1.0,\"#f0f921\"]],\"type\":\"heatmapgl\"}],\"heatmap\":[{\"colorbar\":{\"outlinewidth\":0,\"ticks\":\"\"},\"colorscale\":[[0.0,\"#0d0887\"],[0.1111111111111111,\"#46039f\"],[0.2222222222222222,\"#7201a8\"],[0.3333333333333333,\"#9c179e\"],[0.4444444444444444,\"#bd3786\"],[0.5555555555555556,\"#d8576b\"],[0.6666666666666666,\"#ed7953\"],[0.7777777777777778,\"#fb9f3a\"],[0.8888888888888888,\"#fdca26\"],[1.0,\"#f0f921\"]],\"type\":\"heatmap\"}],\"histogram2dcontour\":[{\"colorbar\":{\"outlinewidth\":0,\"ticks\":\"\"},\"colorscale\":[[0.0,\"#0d0887\"],[0.1111111111111111,\"#46039f\"],[0.2222222222222222,\"#7201a8\"],[0.3333333333333333,\"#9c179e\"],[0.4444444444444444,\"#bd3786\"],[0.5555555555555556,\"#d8576b\"],[0.6666666666666666,\"#ed7953\"],[0.7777777777777778,\"#fb9f3a\"],[0.8888888888888888,\"#fdca26\"],[1.0,\"#f0f921\"]],\"type\":\"histogram2dcontour\"}],\"histogram2d\":[{\"colorbar\":{\"outlinewidth\":0,\"ticks\":\"\"},\"colorscale\":[[0.0,\"#0d0887\"],[0.1111111111111111,\"#46039f\"],[0.2222222222222222,\"#7201a8\"],[0.3333333333333333,\"#9c179e\"],[0.4444444444444444,\"#bd3786\"],[0.5555555555555556,\"#d8576b\"],[0.6666666666666666,\"#ed7953\"],[0.7777777777777778,\"#fb9f3a\"],[0.8888888888888888,\"#fdca26\"],[1.0,\"#f0f921\"]],\"type\":\"histogram2d\"}],\"histogram\":[{\"marker\":{\"pattern\":{\"fillmode\":\"overlay\",\"size\":10,\"solidity\":0.2}},\"type\":\"histogram\"}],\"mesh3d\":[{\"colorbar\":{\"outlinewidth\":0,\"ticks\":\"\"},\"type\":\"mesh3d\"}],\"parcoords\":[{\"line\":{\"colorbar\":{\"outlinewidth\":0,\"ticks\":\"\"}},\"type\":\"parcoords\"}],\"pie\":[{\"automargin\":true,\"type\":\"pie\"}],\"scatter3d\":[{\"line\":{\"colorbar\":{\"outlinewidth\":0,\"ticks\":\"\"}},\"marker\":{\"colorbar\":{\"outlinewidth\":0,\"ticks\":\"\"}},\"type\":\"scatter3d\"}],\"scattercarpet\":[{\"marker\":{\"colorbar\":{\"outlinewidth\":0,\"ticks\":\"\"}},\"type\":\"scattercarpet\"}],\"scattergeo\":[{\"marker\":{\"colorbar\":{\"outlinewidth\":0,\"ticks\":\"\"}},\"type\":\"scattergeo\"}],\"scattergl\":[{\"marker\":{\"line\":{\"color\":\"#283442\"}},\"type\":\"scattergl\"}],\"scattermapbox\":[{\"marker\":{\"colorbar\":{\"outlinewidth\":0,\"ticks\":\"\"}},\"type\":\"scattermapbox\"}],\"scatterpolargl\":[{\"marker\":{\"colorbar\":{\"outlinewidth\":0,\"ticks\":\"\"}},\"type\":\"scatterpolargl\"}],\"scatterpolar\":[{\"marker\":{\"colorbar\":{\"outlinewidth\":0,\"ticks\":\"\"}},\"type\":\"scatterpolar\"}],\"scatter\":[{\"marker\":{\"line\":{\"color\":\"#283442\"}},\"type\":\"scatter\"}],\"scatterternary\":[{\"marker\":{\"colorbar\":{\"outlinewidth\":0,\"ticks\":\"\"}},\"type\":\"scatterternary\"}],\"surface\":[{\"colorbar\":{\"outlinewidth\":0,\"ticks\":\"\"},\"colorscale\":[[0.0,\"#0d0887\"],[0.1111111111111111,\"#46039f\"],[0.2222222222222222,\"#7201a8\"],[0.3333333333333333,\"#9c179e\"],[0.4444444444444444,\"#bd3786\"],[0.5555555555555556,\"#d8576b\"],[0.6666666666666666,\"#ed7953\"],[0.7777777777777778,\"#fb9f3a\"],[0.8888888888888888,\"#fdca26\"],[1.0,\"#f0f921\"]],\"type\":\"surface\"}],\"table\":[{\"cells\":{\"fill\":{\"color\":\"#506784\"},\"line\":{\"color\":\"rgb(17,17,17)\"}},\"header\":{\"fill\":{\"color\":\"#2a3f5f\"},\"line\":{\"color\":\"rgb(17,17,17)\"}},\"type\":\"table\"}]},\"layout\":{\"annotationdefaults\":{\"arrowcolor\":\"#f2f5fa\",\"arrowhead\":0,\"arrowwidth\":1},\"autotypenumbers\":\"strict\",\"coloraxis\":{\"colorbar\":{\"outlinewidth\":0,\"ticks\":\"\"}},\"colorscale\":{\"diverging\":[[0,\"#8e0152\"],[0.1,\"#c51b7d\"],[0.2,\"#de77ae\"],[0.3,\"#f1b6da\"],[0.4,\"#fde0ef\"],[0.5,\"#f7f7f7\"],[0.6,\"#e6f5d0\"],[0.7,\"#b8e186\"],[0.8,\"#7fbc41\"],[0.9,\"#4d9221\"],[1,\"#276419\"]],\"sequential\":[[0.0,\"#0d0887\"],[0.1111111111111111,\"#46039f\"],[0.2222222222222222,\"#7201a8\"],[0.3333333333333333,\"#9c179e\"],[0.4444444444444444,\"#bd3786\"],[0.5555555555555556,\"#d8576b\"],[0.6666666666666666,\"#ed7953\"],[0.7777777777777778,\"#fb9f3a\"],[0.8888888888888888,\"#fdca26\"],[1.0,\"#f0f921\"]],\"sequentialminus\":[[0.0,\"#0d0887\"],[0.1111111111111111,\"#46039f\"],[0.2222222222222222,\"#7201a8\"],[0.3333333333333333,\"#9c179e\"],[0.4444444444444444,\"#bd3786\"],[0.5555555555555556,\"#d8576b\"],[0.6666666666666666,\"#ed7953\"],[0.7777777777777778,\"#fb9f3a\"],[0.8888888888888888,\"#fdca26\"],[1.0,\"#f0f921\"]]},\"colorway\":[\"#636efa\",\"#EF553B\",\"#00cc96\",\"#ab63fa\",\"#FFA15A\",\"#19d3f3\",\"#FF6692\",\"#B6E880\",\"#FF97FF\",\"#FECB52\"],\"font\":{\"color\":\"#f2f5fa\"},\"geo\":{\"bgcolor\":\"rgb(17,17,17)\",\"lakecolor\":\"rgb(17,17,17)\",\"landcolor\":\"rgb(17,17,17)\",\"showlakes\":true,\"showland\":true,\"subunitcolor\":\"#506784\"},\"hoverlabel\":{\"align\":\"left\"},\"hovermode\":\"closest\",\"mapbox\":{\"style\":\"dark\"},\"paper_bgcolor\":\"rgb(17,17,17)\",\"plot_bgcolor\":\"rgb(17,17,17)\",\"polar\":{\"angularaxis\":{\"gridcolor\":\"#506784\",\"linecolor\":\"#506784\",\"ticks\":\"\"},\"bgcolor\":\"rgb(17,17,17)\",\"radialaxis\":{\"gridcolor\":\"#506784\",\"linecolor\":\"#506784\",\"ticks\":\"\"}},\"scene\":{\"xaxis\":{\"backgroundcolor\":\"rgb(17,17,17)\",\"gridcolor\":\"#506784\",\"gridwidth\":2,\"linecolor\":\"#506784\",\"showbackground\":true,\"ticks\":\"\",\"zerolinecolor\":\"#C8D4E3\"},\"yaxis\":{\"backgroundcolor\":\"rgb(17,17,17)\",\"gridcolor\":\"#506784\",\"gridwidth\":2,\"linecolor\":\"#506784\",\"showbackground\":true,\"ticks\":\"\",\"zerolinecolor\":\"#C8D4E3\"},\"zaxis\":{\"backgroundcolor\":\"rgb(17,17,17)\",\"gridcolor\":\"#506784\",\"gridwidth\":2,\"linecolor\":\"#506784\",\"showbackground\":true,\"ticks\":\"\",\"zerolinecolor\":\"#C8D4E3\"}},\"shapedefaults\":{\"line\":{\"color\":\"#f2f5fa\"}},\"sliderdefaults\":{\"bgcolor\":\"#C8D4E3\",\"bordercolor\":\"rgb(17,17,17)\",\"borderwidth\":1,\"tickwidth\":0},\"ternary\":{\"aaxis\":{\"gridcolor\":\"#506784\",\"linecolor\":\"#506784\",\"ticks\":\"\"},\"baxis\":{\"gridcolor\":\"#506784\",\"linecolor\":\"#506784\",\"ticks\":\"\"},\"bgcolor\":\"rgb(17,17,17)\",\"caxis\":{\"gridcolor\":\"#506784\",\"linecolor\":\"#506784\",\"ticks\":\"\"}},\"title\":{\"x\":0.05},\"updatemenudefaults\":{\"bgcolor\":\"#506784\",\"borderwidth\":0},\"xaxis\":{\"automargin\":true,\"gridcolor\":\"#283442\",\"linecolor\":\"#506784\",\"ticks\":\"\",\"title\":{\"standoff\":15},\"zerolinecolor\":\"#283442\",\"zerolinewidth\":2},\"yaxis\":{\"automargin\":true,\"gridcolor\":\"#283442\",\"linecolor\":\"#506784\",\"ticks\":\"\",\"title\":{\"standoff\":15},\"zerolinecolor\":\"#283442\",\"zerolinewidth\":2}}},\"margin\":{\"l\":10,\"r\":10,\"b\":10,\"t\":10},\"paper_bgcolor\":\"#242424\",\"plot_bgcolor\":\"#242424\",\"autosize\":true},                        {\"responsive\": true}                    ).then(function(){\n",
       "                            \n",
       "var gd = document.getElementById('afc8bb4f-8bd7-4e4f-b64e-2253d7a89d3e');\n",
       "var x = new MutationObserver(function (mutations, observer) {{\n",
       "        var display = window.getComputedStyle(gd).display;\n",
       "        if (!display || display === 'none') {{\n",
       "            console.log([gd, 'removed!']);\n",
       "            Plotly.purge(gd);\n",
       "            observer.disconnect();\n",
       "        }}\n",
       "}});\n",
       "\n",
       "// Listen for the removal of the full notebook cells\n",
       "var notebookContainer = gd.closest('#notebook-container');\n",
       "if (notebookContainer) {{\n",
       "    x.observe(notebookContainer, {childList: true});\n",
       "}}\n",
       "\n",
       "// Listen for the clearing of the current output cell\n",
       "var outputEl = gd.closest('.output');\n",
       "if (outputEl) {{\n",
       "    x.observe(outputEl, {childList: true});\n",
       "}}\n",
       "\n",
       "                        })                };                });            </script>        </div>"
      ]
     },
     "metadata": {},
     "output_type": "display_data"
    }
   ],
   "source": [
    "df_states_ = df_states[df_states['data'] == '2020-05-13']\n",
    "df_data = df_states[df_states['estado'] == 'RS']\n",
    "\n",
    "select_columns = {'casosAcumulado': 'Casos Acumulados',\n",
    "                  'casosNovos': 'Novos Casos',\n",
    "                  'obitosAcumulado': 'Óbitos Totais',\n",
    "                  'obitosNovos': 'Óbitos por dia'}\n",
    "\n",
    "# Módulo 'dash' instanciando a classe 'Dash'\n",
    "# Parâmetro básico da função '__name__'\n",
    "# Informando que será utilizado uma folha de estilos externa através do dbc.themes escolhendo o tema CYBORG (tema escuro)\n",
    "\n",
    "app = dash.Dash(__name__, external_stylesheets = [dbc.themes.CYBORG])\n",
    "\n",
    "# criando a figure que terá o mapa\n",
    "# O choropleth é aplicado para mapas com contorno e cor na parte selecionada\n",
    "# fonte de dados 'df_states'; coluna de dados = 'estado'; parâmetro para colorir = 'casosNovos'\n",
    "\n",
    "fig = px.choropleth_mapbox(df_states, locations = 'estado', color = 'casosNovos',\n",
    "                          center={'lat': -16.95, 'lon': -47.78}, zoom = 3,\n",
    "                          geojson = brasil_states, color_continuous_scale = 'Redor', opacity = 0.4,\n",
    "                          hover_data = {'casosAcumulado': True, 'casosNovos': True, 'obitosNovos': True,\n",
    "                                        'estado': True})\n",
    "fig.update_layout(\n",
    "    paper_bgcolor = '#242424',\n",
    "    autosize = True,\n",
    "    margin = go.Margin(l = 0, r = 0, t = 0, b = 0),\n",
    "    showlegend = False,\n",
    "    mapbox_style = 'carto-darkmatter'\n",
    ")\n",
    "\n",
    "fig2 = go.Figure(layout={'template': 'plotly_dark'})\n",
    "fig2.add_trace(go.Scatter(x = df_data['data'], y = df_data['casosAcumulado']))\n",
    "fig2.update_layout(\n",
    "    paper_bgcolor = '#242424',\n",
    "    plot_bgcolor = '#242424',\n",
    "    autosize = True,\n",
    "    margin = dict(l=10, r=10, b=10, t=10)\n",
    ")"
   ]
  },
  {
   "cell_type": "markdown",
   "id": "52d7afd2",
   "metadata": {},
   "source": [
    "### 3.2 Layout do Mapa"
   ]
  },
  {
   "cell_type": "code",
   "execution_count": null,
   "id": "b029f21e",
   "metadata": {},
   "outputs": [],
   "source": [
    "app.layout = dbc.Container(\n",
    "    dbc.Row([\n",
    "        dbc.Col([\n",
    "            html.Div([  # criando a div do lado esquerdo superior\n",
    "                html.Img(id='logo', src = app.get_asset_url('logo_dark.png'), height = 50),\n",
    "                html.H5('Evolução COVID-19'),\n",
    "                dbc.Button('Brasil', color = 'primary', id = 'location-button', size='lg')\n",
    "            ], style = {}),\n",
    "            html.P('Informe a data na qual deseja obter informações:', style={'margin-top': '40px'}),\n",
    "            html.Div(id='div-test', children=[\n",
    "                    dcc.DatePickerSingle(\n",
    "                    id = 'date-picker',\n",
    "                    min_date_allowed = df_brasil['data'].min(),\n",
    "                    max_date_allowed = df_brasil['data'].max(),\n",
    "                    initial_visible_month = df_brasil['data'].min(),\n",
    "                    date = df_brasil['data'].max(),\n",
    "                    display_format = 'MMMM D, YYYY',\n",
    "                    style = {'border': '0px solid black'}\n",
    "                )\n",
    "            ]),\n",
    "            \n",
    "            # criando a linha central para os 3 cartões\n",
    "            dbc.Row([\n",
    "               dbc.Col([\n",
    "                   dbc.Card([\n",
    "                       dbc.CardBody([\n",
    "                           html.Span('Casos recuperados'),\n",
    "                           html.H3(style = {'color': '#adfc92'}, id = 'casos-recuperados-text'),\n",
    "                           html.Span('Em acompanhamento'),\n",
    "                           html.H5(id = 'em-acompanhamento-text'),\n",
    "                       ])\n",
    "                   ], color = 'light', outline = True, style = {'margin-top': '10px',\n",
    "                                            'box-shadow': '0 4px 4px 0 rgba(0, 0, 0, 0.15), 0 4px 20px 0 rgba(0, 0, 0, 0.19)',\n",
    "                                            'color': '#FFFFFF'})\n",
    "                ]), # largura da coluna\n",
    "                \n",
    "                dbc.Col([\n",
    "                   dbc.Card([\n",
    "                       dbc.CardBody([\n",
    "                           html.Span('Casos confirmados totais'),\n",
    "                           html.H3(style = {'color': '#389fd6'}, id = 'casos-confirmados-text'),\n",
    "                           html.Span('Novos casos na data'),\n",
    "                           html.H5(id = 'novos-casos-text'),\n",
    "                       ])\n",
    "                   ], color = 'light', outline = True, style = {'margin-top': '10px',\n",
    "                                            'box-shadow': '0 4px 4px 0 rgba(0, 0, 0, 0.15), 0 4px 20px 0 rgba(0, 0, 0, 0.19)',\n",
    "                                            'color': '#FFFFFF'})\n",
    "                ]), # largura da coluna \n",
    "                \n",
    "                dbc.Col([\n",
    "                   dbc.Card([\n",
    "                       dbc.CardBody([\n",
    "                           html.Span('Óbitos confirmados'),\n",
    "                           html.H3(style = {'color': '#DF2935'}, id = 'obitos-text'),\n",
    "                           html.Span('Óbitos na data'),\n",
    "                           html.H5(id = 'obitos-na-data-text'),\n",
    "                       ])\n",
    "                   ], color = 'light', outline = True, style = {'margin-top': '10px',\n",
    "                                            'box-shadow': '0 4px 4px 0 rgba(0, 0, 0, 0.15), 0 4px 20px 0 rgba(0, 0, 0, 0.19)',\n",
    "                                            'color': '#FFFFFF'})\n",
    "                ], md = 5, style = {'padding': '25px', 'background-color': '#242424'}), # largura da coluna                \n",
    "            ]),\n",
    "            \n",
    "                html.Div([\n",
    "                html.P('Selecione que tipo de dado deseja visualizar:', style={'margin-top': '25px'}),\n",
    "                dcc.Dropdown(id='location-dropdown',\n",
    "                            options = [{'label': j, 'value': i} for i, j in select_columns.items()],\n",
    "                            value = 'casosNovos',\n",
    "                            style = {'margin-top': '10px'}\n",
    "                            ),\n",
    "                dcc.Graph(id = 'line-graph', figure = fig2)\n",
    "                ]),\n",
    "            ]),        \n",
    "                dbc.Col([\n",
    "                    dcc.Loading(id = 'loading-1', type = 'default',\n",
    "                    children=[\n",
    "                        dcc.Graph(id = 'choropleth-map', figure = fig, style={'height':'100vh', 'margin-right': '10px'})\n",
    "                        ]\n",
    "                    )\n",
    "                ], md = 7)                    \n",
    "        ])\n",
    "    )\n",
    "\n",
    "###################################\n",
    "# Interatividade\n",
    "\n",
    "@app.callback(\n",
    "    [\n",
    "        Output('casos-recuperados-text', 'children'),\n",
    "        Output('em-acompanhamento-text', 'children'),\n",
    "        Output('casos-confirmados-text', 'children'),\n",
    "        Output('novos-casos-text', 'children'),\n",
    "        Output('obitos-text', 'children'),\n",
    "        Output('obitos-na-data-text', 'children'),\n",
    "    ],\n",
    "    [Input('date-picker', 'date'), Input('location-button', 'children')]\n",
    "    )\n",
    "\n",
    "\n",
    "def display_status(date, location):\n",
    "    if location == 'BRASIL':\n",
    "        df_data_on_date = df_brasil[df_brasil['data'] == date]\n",
    "    else:\n",
    "        df_data_on_date = df_states[(df_states['estado'] == location) & (df_states['data'] == date)]\n",
    "    \n",
    "    df_data_on_date['Recuperadosnovos']\n",
    "    recuperados_novos = '-' if df_data_on_date['Recuperadosnovos'].isna().values[0] else f'{int(df_data_on_date['Recuperadosnovos'].values[0]):.,}'.replace(',','.')\n",
    "    acompanhamentos_novos = '-' if df_data_on_date['emAcompanhamentoNovos'].isna().values[0] else f'{int(df_data_on_date['emAcompanhamentoNovos'].values[0]):.,}'.replace(',','.')\n",
    "    casos_acumulados = '-' if df_data_on_date['casosAcumulado'].isna().values[0] else f'{int(df_data_on_date['casosAcumulado'].values[0]):.,}'.replace(',','.')\n",
    "    casos_novos = '-' if df_data_on_date['casosNovos'].isna().values[0] else f'{int(df_data_on_date['casosNovos'].values[0]):.,}'.replace(',','.')\n",
    "    obitos_acumulado = '-' if df_data_on_date['obitosAcumulado'].isna().values[0] else f'{int(df_data_on_date['obitosAcumulado'].values[0]):.,}'.replace(',','.')\n",
    "    obitos_novos = '-' if df_data_on_date['obitosNovos'].isna().values[0] else f'{int(df_data_on_date['obitosNovos'].values[0]):.,}'.replace(',','.')\n",
    "    \n",
    "    return (recuperados_novos,\n",
    "            acompanhamentos_novos,\n",
    "            casos_acumulados,\n",
    "            casos_novos,\n",
    "            obitos_acumulado,\n",
    "            obitos_novos)\n",
    "\n",
    "@app.callback(Output('line-graph', 'figure'),\n",
    "              [\n",
    "                  Input('location-dropdown', 'value'), Input('location-button', 'children'),\n",
    "              ])\n",
    "\n",
    "def plot_line_graph(plot_type, location):\n",
    "    if location == 'BRASIL':\n",
    "        df_data_on_location = df_brasil.copy()\n",
    "    else:\n",
    "        df_data_on_location = df_states[df_states['estado'] == location]\n",
    "\n",
    "    bar_plots = ['casosNovos', 'obitosNovos']\n",
    "    \n",
    "    fig2 = go.Figure(layout={'template': 'plotly_dark'})\n",
    "    if plot_type in bar_l=plots:\n",
    "        fig2.add_trace(go.Bar(x=df_data_on_location['data'], y=df_data_on_location[plot_type]))\n",
    "    else:\n",
    "        fig2.add_trace(go.Scatter(x=df_data_on_location['data'], y=df_data_on_location[plot_type]))\n",
    "    \n",
    "    fig2.update_layout(\n",
    "        paper_bgcolor = '#242424',\n",
    "        plot_bgcolor = '#242424',\n",
    "        autosize = True,\n",
    "        margin = dict(l=10, r=10, b=10, t=10)\n",
    "    )\n",
    "    return fig2\n",
    "    \n",
    "###################################\n",
    "\n",
    "if __name__ == '__main__':\n",
    "    app.run_server(debug = True)"
   ]
  },
  {
   "cell_type": "code",
   "execution_count": null,
   "id": "13c01c4d",
   "metadata": {},
   "outputs": [],
   "source": []
  }
 ],
 "metadata": {
  "kernelspec": {
   "display_name": "Python 3 (ipykernel)",
   "language": "python",
   "name": "python3"
  },
  "language_info": {
   "codemirror_mode": {
    "name": "ipython",
    "version": 3
   },
   "file_extension": ".py",
   "mimetype": "text/x-python",
   "name": "python",
   "nbconvert_exporter": "python",
   "pygments_lexer": "ipython3",
   "version": "3.10.9"
  }
 },
 "nbformat": 4,
 "nbformat_minor": 5
}
